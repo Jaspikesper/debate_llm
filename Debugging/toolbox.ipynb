{
 "cells": [
  {
   "cell_type": "code",
   "id": "initial_id",
   "metadata": {
    "collapsed": true,
    "ExecuteTime": {
     "end_time": "2025-06-02T17:08:59.109166Z",
     "start_time": "2025-06-02T17:08:59.104521Z"
    }
   },
   "source": [
    "import numpy as np\n",
    "\n"
   ],
   "outputs": [],
   "execution_count": 16
  },
  {
   "metadata": {
    "ExecuteTime": {
     "end_time": "2025-06-02T17:08:59.131515Z",
     "start_time": "2025-06-02T17:08:59.126966Z"
    }
   },
   "cell_type": "code",
   "source": [
    "a = np.random.choice([1, 10], size=(3, 3))\n",
    "b = np.random.choice([1, 10], size=(3, 3))\n",
    "np.random.seed(121)"
   ],
   "id": "1b41c5e3ad68592b",
   "outputs": [],
   "execution_count": 17
  },
  {
   "metadata": {
    "ExecuteTime": {
     "end_time": "2025-06-02T17:08:59.145293Z",
     "start_time": "2025-06-02T17:08:59.139591Z"
    }
   },
   "cell_type": "code",
   "source": [
    "c = a@b.T\n",
    "c"
   ],
   "id": "e76dc3fd0203cacb",
   "outputs": [
    {
     "data": {
      "text/plain": [
       "array([[ 12,  12, 102],\n",
       "       [ 21,  21,  30],\n",
       "       [ 21,  21, 111]])"
      ]
     },
     "execution_count": 18,
     "metadata": {},
     "output_type": "execute_result"
    }
   ],
   "execution_count": 18
  },
  {
   "metadata": {
    "ExecuteTime": {
     "end_time": "2025-06-02T17:08:59.247966Z",
     "start_time": "2025-06-02T17:08:59.244831Z"
    }
   },
   "cell_type": "code",
   "source": "",
   "id": "1edfbdbeac1a52c6",
   "outputs": [],
   "execution_count": null
  }
 ],
 "metadata": {
  "kernelspec": {
   "display_name": "Python 3",
   "language": "python",
   "name": "python3"
  },
  "language_info": {
   "codemirror_mode": {
    "name": "ipython",
    "version": 2
   },
   "file_extension": ".py",
   "mimetype": "text/x-python",
   "name": "python",
   "nbconvert_exporter": "python",
   "pygments_lexer": "ipython2",
   "version": "2.7.6"
  }
 },
 "nbformat": 4,
 "nbformat_minor": 5
}
