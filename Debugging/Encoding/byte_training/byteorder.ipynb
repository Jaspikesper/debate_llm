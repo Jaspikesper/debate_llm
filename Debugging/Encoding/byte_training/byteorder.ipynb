{
 "cells": [
  {
   "cell_type": "code",
   "id": "initial_id",
   "metadata": {
    "collapsed": true,
    "ExecuteTime": {
     "end_time": "2025-06-14T14:45:26.864490Z",
     "start_time": "2025-06-14T14:45:24.759574Z"
    }
   },
   "source": "import torch",
   "outputs": [],
   "execution_count": 1
  },
  {
   "metadata": {
    "ExecuteTime": {
     "end_time": "2025-06-14T15:10:11.937927Z",
     "start_time": "2025-06-14T15:10:11.933636Z"
    }
   },
   "cell_type": "code",
   "source": "x = torch.rand(4, 4, 3, 16)",
   "id": "5df94f9960884bc7",
   "outputs": [],
   "execution_count": 42
  },
  {
   "metadata": {
    "ExecuteTime": {
     "end_time": "2025-06-14T15:10:49.401425Z",
     "start_time": "2025-06-14T15:10:49.397006Z"
    }
   },
   "cell_type": "code",
   "source": [
    "def my_linear(x): # x: Tensor(4, 3, 16) -> Tensor(1, 3, 16)\n",
    "    out_size = x.shape[0] * x.shape[-2] * x.shape[-1]\n",
    "    L = torch.nn.Linear(x.numel(), out_size)\n",
    "    x = x.flatten()\n",
    "    y = L(x)\n",
    "    return y"
   ],
   "id": "15bab7393c784eaf",
   "outputs": [],
   "execution_count": 50
  },
  {
   "metadata": {
    "ExecuteTime": {
     "end_time": "2025-06-14T15:10:49.538263Z",
     "start_time": "2025-06-14T15:10:49.533143Z"
    }
   },
   "cell_type": "code",
   "source": "y = my_linear(x).reshape(4, 3, 16)",
   "id": "4a86928e3194e80e",
   "outputs": [],
   "execution_count": 51
  },
  {
   "metadata": {
    "ExecuteTime": {
     "end_time": "2025-06-14T15:10:49.682917Z",
     "start_time": "2025-06-14T15:10:49.677653Z"
    }
   },
   "cell_type": "code",
   "source": "y.shape",
   "id": "774ec39b6f2f7f1c",
   "outputs": [
    {
     "data": {
      "text/plain": [
       "torch.Size([4, 3, 16])"
      ]
     },
     "execution_count": 52,
     "metadata": {},
     "output_type": "execute_result"
    }
   ],
   "execution_count": 52
  },
  {
   "metadata": {},
   "cell_type": "code",
   "outputs": [],
   "execution_count": null,
   "source": "",
   "id": "595a239b23feb42e"
  }
 ],
 "metadata": {
  "kernelspec": {
   "display_name": "Python 3",
   "language": "python",
   "name": "python3"
  },
  "language_info": {
   "codemirror_mode": {
    "name": "ipython",
    "version": 2
   },
   "file_extension": ".py",
   "mimetype": "text/x-python",
   "name": "python",
   "nbconvert_exporter": "python",
   "pygments_lexer": "ipython2",
   "version": "2.7.6"
  }
 },
 "nbformat": 4,
 "nbformat_minor": 5
}
