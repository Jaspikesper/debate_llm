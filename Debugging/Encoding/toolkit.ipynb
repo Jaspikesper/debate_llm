{
 "cells": [
  {
   "cell_type": "code",
   "id": "initial_id",
   "metadata": {
    "collapsed": true,
    "ExecuteTime": {
     "end_time": "2025-06-24T21:26:16.778734Z",
     "start_time": "2025-06-24T21:26:13.466305Z"
    }
   },
   "source": [
    "from tokenizer import TikToken200k\n",
    "from model import *"
   ],
   "outputs": [
    {
     "ename": "AttributeError",
     "evalue": "'Encoding' object has no attribute 'vocab'",
     "output_type": "error",
     "traceback": [
      "\u001B[1;31m---------------------------------------------------------------------------\u001B[0m",
      "\u001B[1;31mAttributeError\u001B[0m                            Traceback (most recent call last)",
      "Cell \u001B[1;32mIn[2], line 2\u001B[0m\n\u001B[0;32m      1\u001B[0m \u001B[38;5;28;01mfrom\u001B[39;00m \u001B[38;5;21;01mtokenizer\u001B[39;00m \u001B[38;5;28;01mimport\u001B[39;00m TikToken200k\n\u001B[1;32m----> 2\u001B[0m \u001B[38;5;28;01mfrom\u001B[39;00m \u001B[38;5;21;01mmodel\u001B[39;00m \u001B[38;5;28;01mimport\u001B[39;00m \u001B[38;5;241m*\u001B[39m\n",
      "File \u001B[1;32m~\\PycharmProjects\\PythonProject7\\Debugging\\Encoding\\model.py:148\u001B[0m\n\u001B[0;32m    145\u001B[0m \u001B[38;5;66;03m#tokenizer = BytePairTokenizer()\u001B[39;00m\n\u001B[0;32m    146\u001B[0m tokenizer \u001B[38;5;241m=\u001B[39m TikToken200k\n\u001B[1;32m--> 148\u001B[0m vocab_size \u001B[38;5;241m=\u001B[39m \u001B[38;5;28mmax\u001B[39m(tokenizer\u001B[38;5;241m.\u001B[39mvocab\u001B[38;5;241m.\u001B[39mvalues()) \u001B[38;5;241m+\u001B[39m \u001B[38;5;241m2\u001B[39m\n\u001B[0;32m    149\u001B[0m embedding_layer \u001B[38;5;241m=\u001B[39m nn\u001B[38;5;241m.\u001B[39mEmbedding(vocab_size, h_dim, padding_idx\u001B[38;5;241m=\u001B[39m\u001B[38;5;241m0\u001B[39m)\n\u001B[0;32m    150\u001B[0m pos_encoding_layer \u001B[38;5;241m=\u001B[39m PositionalEncoding(max_length, h_dim)\n",
      "\u001B[1;31mAttributeError\u001B[0m: 'Encoding' object has no attribute 'vocab'"
     ]
    }
   ],
   "execution_count": 2
  },
  {
   "metadata": {
    "ExecuteTime": {
     "end_time": "2025-06-24T21:26:16.856695800Z",
     "start_time": "2025-06-13T14:43:32.143650Z"
    }
   },
   "cell_type": "code",
   "source": [
    "phrase = 'Abraham Lincoln'\n",
    "ids = tokenizer.encode(phrase)\n",
    "\n",
    "emb = encoding_layer(torch.tensor(ids).reshape(-1, 1))\n",
    "attn = stacked_attention(emb)"
   ],
   "id": "d22c379c2ee063ce",
   "outputs": [],
   "execution_count": 3
  },
  {
   "metadata": {
    "ExecuteTime": {
     "end_time": "2025-06-13T14:43:32.201341Z",
     "start_time": "2025-06-13T14:43:32.192447Z"
    }
   },
   "cell_type": "code",
   "source": "attn[1].shape",
   "id": "28ee59223d4d4412",
   "outputs": [
    {
     "data": {
      "text/plain": [
       "torch.Size([2, 12, 1, 1])"
      ]
     },
     "execution_count": 4,
     "metadata": {},
     "output_type": "execute_result"
    }
   ],
   "execution_count": 4
  },
  {
   "metadata": {
    "ExecuteTime": {
     "end_time": "2025-06-13T14:43:34.675746Z",
     "start_time": "2025-06-13T14:43:34.671383Z"
    }
   },
   "cell_type": "code",
   "source": "ids",
   "id": "eb45b2ad18a15e0c",
   "outputs": [
    {
     "data": {
      "text/plain": [
       "[53339, 50439]"
      ]
     },
     "execution_count": 5,
     "metadata": {},
     "output_type": "execute_result"
    }
   ],
   "execution_count": 5
  },
  {
   "metadata": {},
   "cell_type": "code",
   "outputs": [],
   "execution_count": null,
   "source": "",
   "id": "e0c2e25d8b01dfd2"
  }
 ],
 "metadata": {
  "kernelspec": {
   "display_name": "Python 3",
   "language": "python",
   "name": "python3"
  },
  "language_info": {
   "codemirror_mode": {
    "name": "ipython",
    "version": 2
   },
   "file_extension": ".py",
   "mimetype": "text/x-python",
   "name": "python",
   "nbconvert_exporter": "python",
   "pygments_lexer": "ipython2",
   "version": "2.7.6"
  }
 },
 "nbformat": 4,
 "nbformat_minor": 5
}
