{
 "cells": [
  {
   "cell_type": "code",
   "id": "initial_id",
   "metadata": {
    "collapsed": true,
    "ExecuteTime": {
     "end_time": "2025-05-30T12:33:36.738185Z",
     "start_time": "2025-05-30T12:33:36.733750Z"
    }
   },
   "source": [
    "import torch\n",
    "import model\n",
    "from tokenizer import BytePairTokenizer, TikToken4o"
   ],
   "outputs": [],
   "execution_count": 5
  },
  {
   "metadata": {
    "ExecuteTime": {
     "end_time": "2025-05-30T12:34:47.652362Z",
     "start_time": "2025-05-30T12:34:47.633767Z"
    }
   },
   "cell_type": "code",
   "source": [
    "phrase = 'every journey begins with a single step'\n",
    "\n",
    "tokenizer = TikToken4o\n",
    "tokens = tokenizer.encode(phrase)\n",
    "embeddings = model.embedding_layer(tokens)"
   ],
   "id": "9db6c0acb25fcfeb",
   "outputs": [
    {
     "ename": "AttributeError",
     "evalue": "module 'model' has no attribute 'embedding_layer'",
     "output_type": "error",
     "traceback": [
      "\u001B[1;31m---------------------------------------------------------------------------\u001B[0m",
      "\u001B[1;31mAttributeError\u001B[0m                            Traceback (most recent call last)",
      "Cell \u001B[1;32mIn[11], line 5\u001B[0m\n\u001B[0;32m      3\u001B[0m tokenizer \u001B[38;5;241m=\u001B[39m TikToken4o\n\u001B[0;32m      4\u001B[0m tokens \u001B[38;5;241m=\u001B[39m tokenizer\u001B[38;5;241m.\u001B[39mencode(phrase)\n\u001B[1;32m----> 5\u001B[0m embeddings \u001B[38;5;241m=\u001B[39m model\u001B[38;5;241m.\u001B[39membedding_layer(tokens)\n",
      "\u001B[1;31mAttributeError\u001B[0m: module 'model' has no attribute 'embedding_layer'"
     ]
    }
   ],
   "execution_count": 11
  },
  {
   "metadata": {
    "ExecuteTime": {
     "end_time": "2025-05-30T12:34:33.489087Z",
     "start_time": "2025-05-30T12:34:33.481695Z"
    }
   },
   "cell_type": "code",
   "source": "tokens",
   "id": "79aa6b15fd3c9f6a",
   "outputs": [
    {
     "data": {
      "text/plain": [
       "[50492, 12647, 18015, 483, 261, 4590, 5983]"
      ]
     },
     "execution_count": 10,
     "metadata": {},
     "output_type": "execute_result"
    }
   ],
   "execution_count": 10
  },
  {
   "metadata": {},
   "cell_type": "code",
   "outputs": [],
   "execution_count": null,
   "source": "",
   "id": "1587d6e45d3bec42"
  }
 ],
 "metadata": {
  "kernelspec": {
   "display_name": "Python 3",
   "language": "python",
   "name": "python3"
  },
  "language_info": {
   "codemirror_mode": {
    "name": "ipython",
    "version": 2
   },
   "file_extension": ".py",
   "mimetype": "text/x-python",
   "name": "python",
   "nbconvert_exporter": "python",
   "pygments_lexer": "ipython2",
   "version": "2.7.6"
  }
 },
 "nbformat": 4,
 "nbformat_minor": 5
}
