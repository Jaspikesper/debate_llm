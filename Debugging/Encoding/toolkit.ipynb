{
 "cells": [
  {
   "cell_type": "code",
   "id": "initial_id",
   "metadata": {
    "collapsed": true,
    "ExecuteTime": {
     "end_time": "2025-06-06T16:56:25.001587Z",
     "start_time": "2025-06-06T16:56:17.259275Z"
    }
   },
   "source": [
    "import torch\n",
    "import model\n",
    "from tokenizer import BytePairTokenizer, TikToken4o"
   ],
   "outputs": [
    {
     "name": "stdout",
     "output_type": "stream",
     "text": [
      "byte_training/tok.json\n",
      "loaded a model with  4201 vocabulary!\n",
      "target vocab size is:  None !\n",
      "Displaying the sequence task!\n",
      "Decoded Inputs:\n",
      "<|unknown|>Title: S\n",
      "Title: Sim\n",
      "itle: Simple\n",
      "le: Simple S\n",
      "\n",
      "Decoded Targets:\n",
      "Title: Sim\n",
      "itle: Simple\n",
      "le: Simple S\n",
      ": Simple Sab\n",
      "Encoded output shape: torch.Size([4, 6, 3])\n"
     ]
    }
   ],
   "execution_count": 1
  },
  {
   "metadata": {
    "ExecuteTime": {
     "end_time": "2025-06-06T16:57:58.215035Z",
     "start_time": "2025-06-06T16:57:58.206710Z"
    }
   },
   "cell_type": "code",
   "source": [
    "phrase = 'every journey begins with a single step'\n",
    "\n",
    "tokenizer = TikToken4o\n",
    "attention = model.self_attention_layer\n",
    "\n",
    "tokens = tokenizer.encode(phrase)\n",
    "embeddings = model.embedding_layer(torch.tensor(tokens))\n",
    "context = attention(embeddings)\n",
    "context.detach().numpy()"
   ],
   "id": "9db6c0acb25fcfeb",
   "outputs": [
    {
     "data": {
      "text/plain": [
       "array([[-0.39175302, -0.21735917,  0.8390444 ],\n",
       "       [ 0.02595548,  0.02246953,  0.792957  ],\n",
       "       [-0.2733143 , -0.14544621,  0.8325386 ],\n",
       "       [-0.0709865 , -0.03826859,  0.8048437 ],\n",
       "       [-0.03547822, -0.06003229,  0.78393734],\n",
       "       [-0.06488673, -0.07848479,  0.78802633],\n",
       "       [-0.0111661 , -0.08959781,  0.7641735 ]], dtype=float32)"
      ]
     },
     "execution_count": 7,
     "metadata": {},
     "output_type": "execute_result"
    }
   ],
   "execution_count": 7
  },
  {
   "metadata": {},
   "cell_type": "code",
   "outputs": [],
   "execution_count": null,
   "source": "",
   "id": "1587d6e45d3bec42"
  }
 ],
 "metadata": {
  "kernelspec": {
   "display_name": "Python 3",
   "language": "python",
   "name": "python3"
  },
  "language_info": {
   "codemirror_mode": {
    "name": "ipython",
    "version": 2
   },
   "file_extension": ".py",
   "mimetype": "text/x-python",
   "name": "python",
   "nbconvert_exporter": "python",
   "pygments_lexer": "ipython2",
   "version": "2.7.6"
  }
 },
 "nbformat": 4,
 "nbformat_minor": 5
}
