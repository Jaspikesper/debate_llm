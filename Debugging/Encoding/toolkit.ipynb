{
 "cells": [
  {
   "cell_type": "code",
   "id": "initial_id",
   "metadata": {
    "collapsed": true,
    "ExecuteTime": {
     "end_time": "2025-06-09T15:28:21.926575Z",
     "start_time": "2025-06-09T15:28:19.154397Z"
    }
   },
   "source": "from model import *",
   "outputs": [
    {
     "name": "stdout",
     "output_type": "stream",
     "text": [
      "byte_training/tok.json\n",
      "loaded a model with  4201 vocabulary!\n",
      "target vocab size is:  None !\n",
      "Output shape (context): torch.Size([1, 6, 16])\n"
     ]
    }
   ],
   "execution_count": 1
  },
  {
   "metadata": {
    "ExecuteTime": {
     "end_time": "2025-06-09T15:29:22.480794Z",
     "start_time": "2025-06-09T15:29:22.462817Z"
    }
   },
   "cell_type": "code",
   "source": [
    "# Example input\n",
    "phrases = ['to pimp a ', 'my favorite color is', 'i love to smoke', 'will you marry']\n",
    "tokens = tokenizer.encode(phrase)\n",
    "input_tensor = torch.tensor(tokens).unsqueeze(0)  # (1, seq_length)\n",
    "\n",
    "# Initialize abstract layers\n",
    "pos_encoding_layer = PositionalEncoding(max_length=max_length, h_dim=h_dim)\n",
    "encoding_layer = Encoding(embedding_layer, pos_encoding_layer)\n",
    "d_out = 16\n",
    "attention_layer = MaskedSelfAttention(d_in=h_dim, d_out=d_out, context_length=max_length)\n",
    "\n",
    "# Call them in order\n",
    "embedded_with_pos = encoding_layer(input_tensor)\n",
    "context = attention_layer(embedded_with_pos)\n",
    "\n",
    "print(\"Output shape (context):\", context.shape)\n",
    "\n",
    "class MyStackedFunction(torch.nn.Module):\n",
    "    def __init__(self, module_cls, N, *args, **kwargs):\n",
    "        super().__init__()\n",
    "        self.modules_list = torch.nn.ModuleList([module_cls(*args, **kwargs) for _ in range(N)])\n",
    "\n",
    "    def forward(self, x):\n",
    "        outputs = [mod(x) for mod in self.modules_list]\n",
    "        return torch.stack(outputs, dim=0).squeeze()\n",
    "\n",
    "num_heads = 12\n",
    "StackedAttention = MyStackedFunction(\n",
    "    MaskedSelfAttention,\n",
    "    num_heads,\n",
    "    h_dim,\n",
    "    d_out,\n",
    "    max_length,\n",
    "    dropout=0.5,\n",
    "    qkv_bias=True\n",
    ")\n"
   ],
   "id": "1a0cdfe3b231011d",
   "outputs": [
    {
     "name": "stdout",
     "output_type": "stream",
     "text": [
      "Output shape (context): torch.Size([1, 6, 16])\n"
     ]
    }
   ],
   "execution_count": 3
  },
  {
   "metadata": {},
   "cell_type": "code",
   "outputs": [],
   "execution_count": null,
   "source": "",
   "id": "c9efa89cae8ccc68"
  }
 ],
 "metadata": {
  "kernelspec": {
   "display_name": "Python 3",
   "language": "python",
   "name": "python3"
  },
  "language_info": {
   "codemirror_mode": {
    "name": "ipython",
    "version": 2
   },
   "file_extension": ".py",
   "mimetype": "text/x-python",
   "name": "python",
   "nbconvert_exporter": "python",
   "pygments_lexer": "ipython2",
   "version": "2.7.6"
  }
 },
 "nbformat": 4,
 "nbformat_minor": 5
}
