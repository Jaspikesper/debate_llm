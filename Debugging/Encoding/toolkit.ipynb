{
 "cells": [
  {
   "cell_type": "code",
   "id": "initial_id",
   "metadata": {
    "collapsed": true,
    "ExecuteTime": {
     "end_time": "2025-06-12T00:49:28.410099Z",
     "start_time": "2025-06-12T00:49:26.066578Z"
    }
   },
   "source": "from model import *",
   "outputs": [],
   "execution_count": 12
  },
  {
   "metadata": {
    "ExecuteTime": {
     "end_time": "2025-06-09T15:29:22.480794Z",
     "start_time": "2025-06-09T15:29:22.462817Z"
    }
   },
   "cell_type": "code",
   "source": [
    "# Example input\n",
    "phrases = ['to pimp a ', 'my favorite color is', 'i love to smoke', 'will you marry']\n",
    "tokens = tokenizer.encode(phrase)\n",
    "input_tensor = torch.tensor(tokens).unsqueeze(0)  # (1, seq_length)\n",
    "\n",
    "# Initialize abstract layers\n",
    "pos_encoding_layer = PositionalEncoding(max_length=max_length, h_dim=h_dim)\n",
    "encoding_layer = Encoding(embedding_layer, pos_encoding_layer)\n",
    "d_out = 16\n",
    "attention_layer = MaskedSelfAttention(d_in=h_dim, d_out=d_out, context_length=max_length)\n",
    "\n",
    "# Call them in order\n",
    "embedded_with_pos = encoding_layer(input_tensor)\n",
    "context = attention_layer(embedded_with_pos)\n",
    "\n",
    "print(\"Output shape (context):\", context.shape)\n",
    "\n",
    "class MyStackedFunction(torch.nn.Module):\n",
    "    def __init__(self, module_cls, N, *args, **kwargs):\n",
    "        super().__init__()\n",
    "        self.modules_list = torch.nn.ModuleList([module_cls(*args, **kwargs) for _ in range(N)])\n",
    "\n",
    "    def forward(self, x):\n",
    "        outputs = [mod(x) for mod in self.modules_list]\n",
    "        return torch.stack(outputs, dim=0).squeeze()\n",
    "\n",
    "num_heads = 12\n",
    "StackedAttention = MyStackedFunction(\n",
    "    MaskedSelfAttention,\n",
    "    num_heads,\n",
    "    h_dim,\n",
    "    d_out,\n",
    "    max_length,\n",
    "    dropout=0.5,\n",
    "    qkv_bias=True\n",
    ")\n"
   ],
   "id": "1a0cdfe3b231011d",
   "outputs": [
    {
     "name": "stdout",
     "output_type": "stream",
     "text": [
      "Output shape (context): torch.Size([1, 6, 16])\n"
     ]
    }
   ],
   "execution_count": 3
  },
  {
   "metadata": {
    "ExecuteTime": {
     "end_time": "2025-06-11T21:50:27.215898Z",
     "start_time": "2025-06-11T21:50:27.211366Z"
    }
   },
   "cell_type": "code",
   "source": [
    "import os\n",
    "\n",
    "def list_directory_tree_with_os_walk(starting_directory):\n",
    "    st = ''\n",
    "    for root, directories, files in os.walk(starting_directory):\n",
    "        st += \"Directory:\" + root + '\\n'\n",
    "        for file in files:\n",
    "            st += \"File:\" + file + '\\n'\n",
    "    return st"
   ],
   "id": "c9efa89cae8ccc68",
   "outputs": [],
   "execution_count": 9
  },
  {
   "metadata": {
    "ExecuteTime": {
     "end_time": "2025-06-11T21:51:15.717524Z",
     "start_time": "2025-06-11T21:51:15.712028Z"
    }
   },
   "cell_type": "code",
   "source": "print(list_directory_tree_with_os_walk(os.getcwd()))",
   "id": "b559cebdd15bdb04",
   "outputs": [
    {
     "name": "stdout",
     "output_type": "stream",
     "text": [
      "Directory:C:\\Users\\jaspe\\PycharmProjects\\PythonProject7\\Debugging\\Encoding\n",
      "File:data_loader.py\n",
      "File:intro.md\n",
      "File:model.py\n",
      "File:tokenizer.py\n",
      "File:toolkit.ipynb\n",
      "Directory:C:\\Users\\jaspe\\PycharmProjects\\PythonProject7\\Debugging\\Encoding\\byte_training\n",
      "File:byteorder.ipynb\n",
      "File:byte_training.txt\n",
      "File:byte_training_2.txt\n",
      "File:byte_training_3.txt\n",
      "File:byte_training_4.txt\n",
      "File:LLM_dataset.txt\n",
      "File:tok.json\n",
      "Directory:C:\\Users\\jaspe\\PycharmProjects\\PythonProject7\\Debugging\\Encoding\\Tests\n",
      "File:attention_test.py\n",
      "File:Embedder_test.py\n",
      "File:token_test.py\n",
      "Directory:C:\\Users\\jaspe\\PycharmProjects\\PythonProject7\\Debugging\\Encoding\\Tests\\.pytest_cache\n",
      "File:.gitignore\n",
      "File:CACHEDIR.TAG\n",
      "File:README.md\n",
      "Directory:C:\\Users\\jaspe\\PycharmProjects\\PythonProject7\\Debugging\\Encoding\\Tests\\.pytest_cache\\v\n",
      "Directory:C:\\Users\\jaspe\\PycharmProjects\\PythonProject7\\Debugging\\Encoding\\Tests\\.pytest_cache\\v\\cache\n",
      "File:lastfailed\n",
      "File:nodeids\n",
      "File:stepwise\n",
      "Directory:C:\\Users\\jaspe\\PycharmProjects\\PythonProject7\\Debugging\\Encoding\\Tests\\__pycache__\n",
      "File:attention_test.cpython-312-pytest-7.4.4.pyc\n",
      "File:Embedder_test.cpython-312-pytest-7.4.4.pyc\n",
      "File:token_test.cpython-312-pytest-7.4.4.pyc\n",
      "Directory:C:\\Users\\jaspe\\PycharmProjects\\PythonProject7\\Debugging\\Encoding\\__pycache__\n",
      "File:data_loader.cpython-312.pyc\n",
      "File:model.cpython-312.pyc\n",
      "File:tokenizer.cpython-312.pyc\n",
      "\n"
     ]
    }
   ],
   "execution_count": 11
  },
  {
   "metadata": {},
   "cell_type": "code",
   "outputs": [],
   "execution_count": null,
   "source": "",
   "id": "44368be59562cc2f"
  }
 ],
 "metadata": {
  "kernelspec": {
   "display_name": "Python 3",
   "language": "python",
   "name": "python3"
  },
  "language_info": {
   "codemirror_mode": {
    "name": "ipython",
    "version": 2
   },
   "file_extension": ".py",
   "mimetype": "text/x-python",
   "name": "python",
   "nbconvert_exporter": "python",
   "pygments_lexer": "ipython2",
   "version": "2.7.6"
  }
 },
 "nbformat": 4,
 "nbformat_minor": 5
}
